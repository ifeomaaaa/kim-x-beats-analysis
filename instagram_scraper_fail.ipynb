{
  "nbformat": 4,
  "nbformat_minor": 0,
  "metadata": {
    "colab": {
      "name": "instagram-scraper_fail.ipynb",
      "provenance": [],
      "authorship_tag": "ABX9TyMOfHxPHoquovNrD6CvrF+4"
    },
    "kernelspec": {
      "name": "python3",
      "display_name": "Python 3"
    },
    "language_info": {
      "name": "python"
    }
  },
  "cells": [
    {
      "cell_type": "code",
      "source": [
        "!pip install selenium\n",
        "import selenium"
      ],
      "metadata": {
        "id": "H4S-9jAx7Ol8"
      },
      "execution_count": null,
      "outputs": []
    },
    {
      "cell_type": "code",
      "source": [
        "pip install instagram-scraper\n"
      ],
      "metadata": {
        "id": "Rnum1bqS8cLO"
      },
      "execution_count": null,
      "outputs": []
    },
    {
      "cell_type": "code",
      "source": [
        "from instagram_scraper import InstagramScraper"
      ],
      "metadata": {
        "colab": {
          "base_uri": "https://localhost:8080/"
        },
        "id": "dYhBTHdw8ZDs",
        "outputId": "cbe8cd31-da78-47ad-c708-93e510ddb22d"
      },
      "execution_count": null,
      "outputs": [
        {
          "output_type": "stream",
          "name": "stderr",
          "text": [
            "/usr/local/lib/python3.7/dist-packages/requests/__init__.py:91: RequestsDependencyWarning: urllib3 (1.26.11) or chardet (3.0.4) doesn't match a supported version!\n",
            "  RequestsDependencyWarning)\n"
          ]
        }
      ]
    },
    {
      "cell_type": "code",
      "source": [
        "from selenium import webdriver\n",
        " \n",
        "class InstagramScraper:\n",
        "    def __init__(self, post_url):\n",
        "            self.post_url = post_url\n",
        "            self.comments = []\n",
        "            chrome_options = webdriver.ChromeOptions()\n",
        "            chrome_options.add_argument(\"--headless\")\n",
        "            self.chrome = webdriver.Chrome(chrome_options=chrome_options)\n",
        "    def scrape_comments(self):\n",
        "            browser = self.chrome.get(self.post_url)\n",
        "            content = self.chrome.page_source\n",
        "            comments = self.chrome.find_element_by_class_name(\"XQXOT\").find_elements_by_class_name(\"Mr508\")\n",
        "            for comment in comments:\n",
        "                d = comment.find_element_by_class_name(\"ZyFrc\").find_element_by_tag_name(\"li\").find_element_by_class_name(\"P9YgZ\").find_element_by_tag_name(\"div\")\n",
        "                d = d.find_element_by_class_name(\"C4VMK\")\n",
        "                poster = d.find_element_by_tag_name(\"h3\").text\n",
        "                post = d.find_element_by_tag_name(\"span\").text\n",
        "                self.comments.append({\n",
        "                    \"poster\": poster,\n",
        "                    \"post\": post\n",
        "                })\n",
        "    \n",
        "                return self.comments\n",
        "        \n",
        "    post_url = \"https://www.instagram.com/reel/ChDgPSYlzve/\"\n",
        "    post_url.scrape_comments()"
      ],
      "metadata": {
        "colab": {
          "base_uri": "https://localhost:8080/",
          "height": 322
        },
        "id": "si2KV60u6xUe",
        "outputId": "33407d03-9893-4f54-e793-710852828d25"
      },
      "execution_count": null,
      "outputs": [
        {
          "output_type": "error",
          "ename": "AttributeError",
          "evalue": "ignored",
          "traceback": [
            "\u001b[0;31m---------------------------------------------------------------------------\u001b[0m",
            "\u001b[0;31mAttributeError\u001b[0m                            Traceback (most recent call last)",
            "\u001b[0;32m<ipython-input-12-7f7f26fae1cd>\u001b[0m in \u001b[0;36m<module>\u001b[0;34m()\u001b[0m\n\u001b[1;32m      1\u001b[0m \u001b[0;32mfrom\u001b[0m \u001b[0mselenium\u001b[0m \u001b[0;32mimport\u001b[0m \u001b[0mwebdriver\u001b[0m\u001b[0;34m\u001b[0m\u001b[0;34m\u001b[0m\u001b[0m\n\u001b[1;32m      2\u001b[0m \u001b[0;34m\u001b[0m\u001b[0m\n\u001b[0;32m----> 3\u001b[0;31m \u001b[0;32mclass\u001b[0m \u001b[0mInstagramScraper\u001b[0m\u001b[0;34m:\u001b[0m\u001b[0;34m\u001b[0m\u001b[0;34m\u001b[0m\u001b[0m\n\u001b[0m\u001b[1;32m      4\u001b[0m     \u001b[0;32mdef\u001b[0m \u001b[0m__init__\u001b[0m\u001b[0;34m(\u001b[0m\u001b[0mself\u001b[0m\u001b[0;34m,\u001b[0m \u001b[0mpost_url\u001b[0m\u001b[0;34m)\u001b[0m\u001b[0;34m:\u001b[0m\u001b[0;34m\u001b[0m\u001b[0;34m\u001b[0m\u001b[0m\n\u001b[1;32m      5\u001b[0m             \u001b[0mself\u001b[0m\u001b[0;34m.\u001b[0m\u001b[0mpost_url\u001b[0m \u001b[0;34m=\u001b[0m \u001b[0mpost_url\u001b[0m\u001b[0;34m\u001b[0m\u001b[0;34m\u001b[0m\u001b[0m\n",
            "\u001b[0;32m<ipython-input-12-7f7f26fae1cd>\u001b[0m in \u001b[0;36mInstagramScraper\u001b[0;34m()\u001b[0m\n\u001b[1;32m     25\u001b[0m \u001b[0;34m\u001b[0m\u001b[0m\n\u001b[1;32m     26\u001b[0m     \u001b[0mpost_url\u001b[0m \u001b[0;34m=\u001b[0m \u001b[0;34m\"https://www.instagram.com/reel/ChDgPSYlzve/\"\u001b[0m\u001b[0;34m\u001b[0m\u001b[0;34m\u001b[0m\u001b[0m\n\u001b[0;32m---> 27\u001b[0;31m     \u001b[0mpost_url\u001b[0m\u001b[0;34m.\u001b[0m\u001b[0mscrape_comments\u001b[0m\u001b[0;34m(\u001b[0m\u001b[0;34m)\u001b[0m\u001b[0;34m\u001b[0m\u001b[0;34m\u001b[0m\u001b[0m\n\u001b[0m",
            "\u001b[0;31mAttributeError\u001b[0m: 'str' object has no attribute 'scrape_comments'"
          ]
        }
      ]
    }
  ]
}